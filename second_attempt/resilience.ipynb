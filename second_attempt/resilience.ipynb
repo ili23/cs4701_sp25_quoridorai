{
 "cells": [
  {
   "cell_type": "code",
   "execution_count": 1,
   "id": "887f9937",
   "metadata": {},
   "outputs": [],
   "source": [
    "import numpy as np\n",
    "# from sklearn.model_selection import train_test_split\n",
    "from sklearn.preprocessing import StandardScaler\n",
    "from sklearn.ensemble import RandomForestClassifier\n",
    "from sklearn.metrics import classification_report, accuracy_score\n",
    "\n",
    "import m2cgen as m2c"
   ]
  },
  {
   "cell_type": "code",
   "execution_count": null,
   "id": "77130b25",
   "metadata": {},
   "outputs": [],
   "source": [
    "data = np.genfromtxt(\"./build/data/gamestate0.csv\", skip_header=1, delimiter=\",\")\n",
    "y = data[:, 0]\n",
    "X = data[:, 1:]\n",
    "X = np.nan_to_num(X, nan=-1.0)\n",
    "X[np.isinf(X)] = -1\n",
    "\n",
    "\n",
    "test_split = 100\n",
    "# 2. Split into training and test sets\n",
    "X_train, X_test, y_train, y_test = X[test_split:, :], X[:test_split, :],  y[test_split:], y[:test_split]\n",
    "\n",
    "# Assume these are your possible classes\n",
    "all_classes = np.array([-1, 0, 1])\n",
    "\n",
    "# Trick: add dummy sample for each missing class (won’t affect model much)\n",
    "missing_classes = set(all_classes) - set(y_train)\n",
    "for cls in missing_classes:\n",
    "    X_train = np.vstack([X_train, np.zeros((1, X_train.shape[1]))])\n",
    "    y_train = np.append(y_train, cls)\n",
    "\n",
    "# data_train = np.genfromtxt(\"./build/data/gamestate0_train_4rm.csv\", skip_header=1, delimiter=\",\")\n",
    "# data_test = np.genfromtxt(\"./build/data/gamestate0_test_4rm.csv\", skip_header=1, delimiter=\",\")\n",
    "\n",
    "# y_train = data_train[:, 0]\n",
    "# X_train = data_train[:, 1:]\n",
    "# X_train = np.nan_to_num(X_train, nan=0.0)\n",
    "\n",
    "# y_test = data_test[:, 0]\n",
    "# X_test = data_test[:, 1:]\n",
    "# X_test = np.nan_to_num(X_test, nan=0.0)\n",
    "\n",
    "# print(data.shape)"
   ]
  },
  {
   "cell_type": "code",
   "execution_count": 27,
   "id": "b3a4a4df",
   "metadata": {},
   "outputs": [
    {
     "name": "stdout",
     "output_type": "stream",
     "text": [
      "Accuracy: 0.814\n",
      "\n",
      "Classification Report:\n",
      "               precision    recall  f1-score   support\n",
      "\n",
      "        -1.0       0.80      0.93      0.86       233\n",
      "         0.0       0.00      0.00      0.00        46\n",
      "         1.0       0.83      0.86      0.85       221\n",
      "\n",
      "    accuracy                           0.81       500\n",
      "   macro avg       0.54      0.60      0.57       500\n",
      "weighted avg       0.74      0.81      0.77       500\n",
      "\n"
     ]
    },
    {
     "name": "stderr",
     "output_type": "stream",
     "text": [
      "/home/mason/cs4701_sp25/second_attempt/env/lib/python3.8/site-packages/sklearn/metrics/_classification.py:1471: UndefinedMetricWarning: Precision and F-score are ill-defined and being set to 0.0 in labels with no predicted samples. Use `zero_division` parameter to control this behavior.\n",
      "  _warn_prf(average, modifier, msg_start, len(result))\n",
      "/home/mason/cs4701_sp25/second_attempt/env/lib/python3.8/site-packages/sklearn/metrics/_classification.py:1471: UndefinedMetricWarning: Precision and F-score are ill-defined and being set to 0.0 in labels with no predicted samples. Use `zero_division` parameter to control this behavior.\n",
      "  _warn_prf(average, modifier, msg_start, len(result))\n",
      "/home/mason/cs4701_sp25/second_attempt/env/lib/python3.8/site-packages/sklearn/metrics/_classification.py:1471: UndefinedMetricWarning: Precision and F-score are ill-defined and being set to 0.0 in labels with no predicted samples. Use `zero_division` parameter to control this behavior.\n",
      "  _warn_prf(average, modifier, msg_start, len(result))\n"
     ]
    }
   ],
   "source": [
    "\n",
    "# 3. Scale the features\n",
    "scaler = StandardScaler()\n",
    "X_train_scaled = scaler.fit_transform(X_train)\n",
    "X_test_scaled = scaler.transform(X_test)\n",
    "\n",
    "# 4. Train a basic classifier (Random Forest here)\n",
    "clf = RandomForestClassifier(random_state=42)\n",
    "clf.fit(X_train_scaled, y_train)\n",
    "\n",
    "# 5. Make predictions\n",
    "y_pred = clf.predict(X_test_scaled)\n",
    "\n",
    "# 6. Evaluate performance\n",
    "print(\"Accuracy:\", accuracy_score(y_test, y_pred))\n",
    "print(\"\\nClassification Report:\\n\", classification_report(y_test, y_pred))\n"
   ]
  },
  {
   "cell_type": "code",
   "execution_count": 9,
   "id": "a5e3a430",
   "metadata": {},
   "outputs": [],
   "source": [
    "code = m2c.export_to_c(clf)\n",
    "\n",
    "with open(\"src/model.c\", \"w\") as f:\n",
    "    f.write(code)"
   ]
  },
  {
   "cell_type": "markdown",
   "id": "1554545d",
   "metadata": {},
   "source": [
    "# DONT FORGET THE SCALARS"
   ]
  },
  {
   "cell_type": "code",
   "execution_count": 10,
   "id": "bff7d863",
   "metadata": {},
   "outputs": [
    {
     "name": "stdout",
     "output_type": "stream",
     "text": [
      "constexpr double means[] = {4.680917622523462, 4.1935349322210635, 0.9359332638164419, 0.46339937434827944, 0.8951407716370937, 0.40125130344108445, 6.419186652763295, 5.915328467153285, 6.970594369134515, 6.772054223149114};\n",
      "constexpr double scale[] = {2.3037261362941543, 2.5572241036621226, 1.1112038299748168, 0.6141071140172408, 1.1082298241165147, 0.5876718335763693, 13.680652671714403, 13.643162991952067, 10.088728922069244, 9.989544641321535};\n"
     ]
    }
   ],
   "source": [
    "scales = \", \".join(str(x) for x in list(scaler.scale_))\n",
    "means = \", \".join(str(x) for x in list(scaler.mean_))\n",
    "\n",
    "params = \"constexpr double means[] = {\" + means + \"};\\nconstexpr double scale[] = {\" + scales + \"};\"\n",
    "print(params)"
   ]
  },
  {
   "cell_type": "code",
   "execution_count": 14,
   "id": "43c95f27",
   "metadata": {},
   "outputs": [
    {
     "data": {
      "text/plain": [
       "[11.772048524951849,\n",
       " 0.937536590432978,\n",
       " 10.75941549489949,\n",
       " 0.8741966229667335,\n",
       " 148.55913978494624,\n",
       " 123.75241246208988,\n",
       " 36.92197408326441,\n",
       " 34.059001929969675]"
      ]
     },
     "execution_count": 14,
     "metadata": {},
     "output_type": "execute_result"
    }
   ],
   "source": []
  },
  {
   "cell_type": "code",
   "execution_count": null,
   "id": "9fc8386a",
   "metadata": {},
   "outputs": [],
   "source": []
  }
 ],
 "metadata": {
  "kernelspec": {
   "display_name": "env",
   "language": "python",
   "name": "python3"
  },
  "language_info": {
   "codemirror_mode": {
    "name": "ipython",
    "version": 3
   },
   "file_extension": ".py",
   "mimetype": "text/x-python",
   "name": "python",
   "nbconvert_exporter": "python",
   "pygments_lexer": "ipython3",
   "version": "3.13.1"
  }
 },
 "nbformat": 4,
 "nbformat_minor": 5
}
