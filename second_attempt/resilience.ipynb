{
 "cells": [
  {
   "cell_type": "code",
   "execution_count": 1,
   "id": "887f9937",
   "metadata": {},
   "outputs": [],
   "source": [
    "import numpy as np\n",
    "from sklearn.model_selection import train_test_split\n",
    "from sklearn.preprocessing import StandardScaler\n",
    "from sklearn.ensemble import RandomForestClassifier\n",
    "from sklearn.metrics import classification_report, accuracy_score\n",
    "\n",
    "# 1. Example: Generate synthetic dataset (remove this if you have your own X, y)\n",
    "from sklearn.datasets import make_classification\n"
   ]
  },
  {
   "cell_type": "code",
   "execution_count": 8,
   "id": "77130b25",
   "metadata": {},
   "outputs": [],
   "source": [
    "data = np.genfromtxt(\"./build/data/gamestate0.csv\", skip_header=1, delimiter=\",\")\n",
    "\n",
    "y = data[:, 0]\n",
    "X = data[:, 1:]\n",
    "X = np.nan_to_num(X, nan=0.0)\n"
   ]
  },
  {
   "cell_type": "code",
   "execution_count": 11,
   "id": "b3a4a4df",
   "metadata": {},
   "outputs": [
    {
     "name": "stdout",
     "output_type": "stream",
     "text": [
      "Accuracy: 0.9384\n",
      "\n",
      "Classification Report:\n",
      "               precision    recall  f1-score   support\n",
      "\n",
      "        -1.0       0.94      0.95      0.94       625\n",
      "         0.0       1.00      0.74      0.85        42\n",
      "         1.0       0.94      0.94      0.94       583\n",
      "\n",
      "    accuracy                           0.94      1250\n",
      "   macro avg       0.96      0.88      0.91      1250\n",
      "weighted avg       0.94      0.94      0.94      1250\n",
      "\n"
     ]
    }
   ],
   "source": [
    "\n",
    "# 2. Split into training and test sets\n",
    "X_train, X_test, y_train, y_test = X[1250:, :], X[:1250, :],  y[1250:], y[:1250]\n",
    "\n",
    "# 3. Scale the features\n",
    "scaler = StandardScaler()\n",
    "X_train_scaled = scaler.fit_transform(X_train)\n",
    "X_test_scaled = scaler.transform(X_test)\n",
    "\n",
    "# 4. Train a basic classifier (Random Forest here)\n",
    "clf = RandomForestClassifier(random_state=42)\n",
    "clf.fit(X_train_scaled, y_train)\n",
    "\n",
    "# 5. Make predictions\n",
    "y_pred = clf.predict(X_test_scaled)\n",
    "\n",
    "# 6. Evaluate performance\n",
    "print(\"Accuracy:\", accuracy_score(y_test, y_pred))\n",
    "print(\"\\nClassification Report:\\n\", classification_report(y_test, y_pred))\n"
   ]
  },
  {
   "cell_type": "code",
   "execution_count": null,
   "id": "a5e3a430",
   "metadata": {},
   "outputs": [
    {
     "data": {
      "text/plain": [
       "array([[  1.  ,  14.28,   1.02, ..., 200.  ,  50.  ,  50.  ],\n",
       "       [ -1.  ,  16.32,   1.02, ..., 100.  ,  50.  ,  50.  ],\n",
       "       [  1.  ,  12.24,   1.02, ..., 150.  ,  50.  ,  50.  ],\n",
       "       ...,\n",
       "       [  0.  ,  24.48,   1.02, ...,   0.  ,  50.  ,   0.  ],\n",
       "       [  0.  ,  10.2 ,   1.02, ..., 300.  ,   0.  ,  50.  ],\n",
       "       [  0.  ,  22.44,   1.02, ...,   0.  ,  50.  ,   0.  ]])"
      ]
     },
     "execution_count": 3,
     "metadata": {},
     "output_type": "execute_result"
    }
   ],
   "source": []
  }
 ],
 "metadata": {
  "kernelspec": {
   "display_name": "env",
   "language": "python",
   "name": "python3"
  },
  "language_info": {
   "codemirror_mode": {
    "name": "ipython",
    "version": 3
   },
   "file_extension": ".py",
   "mimetype": "text/x-python",
   "name": "python",
   "nbconvert_exporter": "python",
   "pygments_lexer": "ipython3",
   "version": "3.8.10"
  }
 },
 "nbformat": 4,
 "nbformat_minor": 5
}
