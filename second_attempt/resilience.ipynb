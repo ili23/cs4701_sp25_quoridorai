{
 "cells": [
  {
   "cell_type": "code",
   "execution_count": 19,
   "id": "887f9937",
   "metadata": {},
   "outputs": [],
   "source": [
    "import numpy as np\n",
    "from sklearn.model_selection import train_test_split\n",
    "from sklearn.preprocessing import StandardScaler\n",
    "from sklearn.ensemble import RandomForestClassifier\n",
    "from sklearn.metrics import classification_report, accuracy_score\n",
    "\n",
    "import m2cgen as m2c"
   ]
  },
  {
   "cell_type": "code",
   "execution_count": 24,
   "id": "77130b25",
   "metadata": {},
   "outputs": [],
   "source": [
    "data = np.genfromtxt(\"./build/data/gamestate0.csv\", skip_header=1, delimiter=\",\")\n",
    "y = data[:, 0]\n",
    "X = data[:, 1:]\n",
    "X = np.nan_to_num(X, nan=0.0)\n",
    "\n",
    "test_split = 500\n",
    "# 2. Split into training and test sets\n",
    "X_train, X_test, y_train, y_test = X[test_split:, :], X[:test_split, :],  y[test_split:], y[:test_split]\n",
    "\n",
    "\n",
    "# data_train = np.genfromtxt(\"./build/data/gamestate0_train_4rm.csv\", skip_header=1, delimiter=\",\")\n",
    "# data_test = np.genfromtxt(\"./build/data/gamestate0_test_4rm.csv\", skip_header=1, delimiter=\",\")\n",
    "\n",
    "# y_train = data_train[:, 0]\n",
    "# X_train = data_train[:, 1:]\n",
    "# X_train = np.nan_to_num(X_train, nan=0.0)\n",
    "\n",
    "# y_test = data_test[:, 0]\n",
    "# X_test = data_test[:, 1:]\n",
    "# X_test = np.nan_to_num(X_test, nan=0.0)\n",
    "\n",
    "# print(data.shape)"
   ]
  },
  {
   "cell_type": "code",
   "execution_count": 25,
   "id": "b3a4a4df",
   "metadata": {},
   "outputs": [
    {
     "name": "stdout",
     "output_type": "stream",
     "text": [
      "Accuracy: 0.794\n",
      "\n",
      "Classification Report:\n",
      "               precision    recall  f1-score   support\n",
      "\n",
      "        -1.0       0.80      0.89      0.84       235\n",
      "         0.0       0.00      0.00      0.00        46\n",
      "         1.0       0.79      0.86      0.83       219\n",
      "\n",
      "    accuracy                           0.79       500\n",
      "   macro avg       0.53      0.58      0.55       500\n",
      "weighted avg       0.72      0.79      0.76       500\n",
      "\n"
     ]
    },
    {
     "name": "stderr",
     "output_type": "stream",
     "text": [
      "/home/mason/cs4701_sp25/second_attempt/env/lib/python3.8/site-packages/sklearn/metrics/_classification.py:1471: UndefinedMetricWarning: Precision and F-score are ill-defined and being set to 0.0 in labels with no predicted samples. Use `zero_division` parameter to control this behavior.\n",
      "  _warn_prf(average, modifier, msg_start, len(result))\n",
      "/home/mason/cs4701_sp25/second_attempt/env/lib/python3.8/site-packages/sklearn/metrics/_classification.py:1471: UndefinedMetricWarning: Precision and F-score are ill-defined and being set to 0.0 in labels with no predicted samples. Use `zero_division` parameter to control this behavior.\n",
      "  _warn_prf(average, modifier, msg_start, len(result))\n",
      "/home/mason/cs4701_sp25/second_attempt/env/lib/python3.8/site-packages/sklearn/metrics/_classification.py:1471: UndefinedMetricWarning: Precision and F-score are ill-defined and being set to 0.0 in labels with no predicted samples. Use `zero_division` parameter to control this behavior.\n",
      "  _warn_prf(average, modifier, msg_start, len(result))\n"
     ]
    }
   ],
   "source": [
    "\n",
    "# 3. Scale the features\n",
    "scaler = StandardScaler()\n",
    "X_train_scaled = scaler.fit_transform(X_train)\n",
    "X_test_scaled = scaler.transform(X_test)\n",
    "\n",
    "# 4. Train a basic classifier (Random Forest here)\n",
    "clf = RandomForestClassifier(random_state=42)\n",
    "clf.fit(X_train_scaled, y_train)\n",
    "\n",
    "# 5. Make predictions\n",
    "y_pred = clf.predict(X_test_scaled)\n",
    "\n",
    "# 6. Evaluate performance\n",
    "print(\"Accuracy:\", accuracy_score(y_test, y_pred))\n",
    "print(\"\\nClassification Report:\\n\", classification_report(y_test, y_pred))\n"
   ]
  },
  {
   "cell_type": "code",
   "execution_count": 27,
   "id": "a5e3a430",
   "metadata": {},
   "outputs": [],
   "source": [
    "code = m2c.export_to_c(clf)\n",
    "\n",
    "with open(\"src/model.c\", \"w\") as f:\n",
    "    f.write(code)"
   ]
  },
  {
   "cell_type": "markdown",
   "id": "1554545d",
   "metadata": {},
   "source": [
    "# DONT FORGET THE SCALARS"
   ]
  },
  {
   "cell_type": "code",
   "execution_count": 29,
   "id": "bff7d863",
   "metadata": {},
   "outputs": [
    {
     "name": "stdout",
     "output_type": "stream",
     "text": [
      "constexpr double means[] = {6.83847066578779, 0.5862443935398807, 6.029848384970357, 0.5347017079762681, 85.96901779828609, 66.71061305207647, 34.27686222808174, 29.75148319050758};\n",
      "constexpr double scale[] = {4.145915610629083, 0.22465748132417496, 4.313175264272859, 0.26418571683119374, 87.05417184576838, 78.84886187221142, 15.585342865572235, 17.40184468742501};\n"
     ]
    }
   ],
   "source": [
    "scales = \", \".join(str(x) for x in list(scaler.scale_))\n",
    "means = \", \".join(str(x) for x in list(scaler.mean_))\n",
    "\n",
    "params = \"constexpr double means[] = {\" + means + \"};\\nconstexpr double scale[] = {\" + scales + \"};\"\n",
    "print(params)"
   ]
  },
  {
   "cell_type": "code",
   "execution_count": 14,
   "id": "43c95f27",
   "metadata": {},
   "outputs": [
    {
     "data": {
      "text/plain": [
       "[11.772048524951849,\n",
       " 0.937536590432978,\n",
       " 10.75941549489949,\n",
       " 0.8741966229667335,\n",
       " 148.55913978494624,\n",
       " 123.75241246208988,\n",
       " 36.92197408326441,\n",
       " 34.059001929969675]"
      ]
     },
     "execution_count": 14,
     "metadata": {},
     "output_type": "execute_result"
    }
   ],
   "source": []
  },
  {
   "cell_type": "code",
   "execution_count": null,
   "id": "9fc8386a",
   "metadata": {},
   "outputs": [],
   "source": []
  }
 ],
 "metadata": {
  "kernelspec": {
   "display_name": "env",
   "language": "python",
   "name": "python3"
  },
  "language_info": {
   "codemirror_mode": {
    "name": "ipython",
    "version": 3
   },
   "file_extension": ".py",
   "mimetype": "text/x-python",
   "name": "python",
   "nbconvert_exporter": "python",
   "pygments_lexer": "ipython3",
   "version": "3.8.10"
  }
 },
 "nbformat": 4,
 "nbformat_minor": 5
}
